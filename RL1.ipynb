{
  "nbformat": 4,
  "nbformat_minor": 0,
  "metadata": {
    "colab": {
      "name": "RL1.ipynb",
      "provenance": [],
      "collapsed_sections": [],
      "authorship_tag": "ABX9TyNo2OcA3grnlDyxGqG9jxoN",
      "include_colab_link": true
    },
    "kernelspec": {
      "name": "python3",
      "display_name": "Python 3"
    }
  },
  "cells": [
    {
      "cell_type": "markdown",
      "metadata": {
        "id": "view-in-github",
        "colab_type": "text"
      },
      "source": [
        "<a href=\"https://colab.research.google.com/github/peares/CRE-NS3/blob/master/RL1.ipynb\" target=\"_parent\"><img src=\"https://colab.research.google.com/assets/colab-badge.svg\" alt=\"Open In Colab\"/></a>"
      ]
    },
    {
      "cell_type": "code",
      "metadata": {
        "colab": {
          "base_uri": "https://localhost:8080/"
        },
        "id": "ekg3P3nXZRKY",
        "outputId": "9ea02199-ea56-4630-9236-4319b4e79bdf"
      },
      "source": [
        "!pip install tensorflow==2.3.0\r\n",
        "!pip install gym\r\n",
        "!pip install keras\r\n",
        "!pip install keras-rl2\r\n"
      ],
      "execution_count": 15,
      "outputs": [
        {
          "output_type": "stream",
          "text": [
            "Requirement already satisfied: tensorflow==2.3.0 in /usr/local/lib/python3.6/dist-packages (2.3.0)\n",
            "Requirement already satisfied: protobuf>=3.9.2 in /usr/local/lib/python3.6/dist-packages (from tensorflow==2.3.0) (3.12.4)\n",
            "Requirement already satisfied: astunparse==1.6.3 in /usr/local/lib/python3.6/dist-packages (from tensorflow==2.3.0) (1.6.3)\n",
            "Requirement already satisfied: absl-py>=0.7.0 in /usr/local/lib/python3.6/dist-packages (from tensorflow==2.3.0) (0.10.0)\n",
            "Requirement already satisfied: tensorflow-estimator<2.4.0,>=2.3.0 in /usr/local/lib/python3.6/dist-packages (from tensorflow==2.3.0) (2.3.0)\n",
            "Requirement already satisfied: opt-einsum>=2.3.2 in /usr/local/lib/python3.6/dist-packages (from tensorflow==2.3.0) (3.3.0)\n",
            "Requirement already satisfied: wrapt>=1.11.1 in /usr/local/lib/python3.6/dist-packages (from tensorflow==2.3.0) (1.12.1)\n",
            "Requirement already satisfied: grpcio>=1.8.6 in /usr/local/lib/python3.6/dist-packages (from tensorflow==2.3.0) (1.32.0)\n",
            "Requirement already satisfied: gast==0.3.3 in /usr/local/lib/python3.6/dist-packages (from tensorflow==2.3.0) (0.3.3)\n",
            "Requirement already satisfied: scipy==1.4.1 in /usr/local/lib/python3.6/dist-packages (from tensorflow==2.3.0) (1.4.1)\n",
            "Requirement already satisfied: wheel>=0.26 in /usr/local/lib/python3.6/dist-packages (from tensorflow==2.3.0) (0.36.2)\n",
            "Requirement already satisfied: tensorboard<3,>=2.3.0 in /usr/local/lib/python3.6/dist-packages (from tensorflow==2.3.0) (2.4.1)\n",
            "Requirement already satisfied: numpy<1.19.0,>=1.16.0 in /usr/local/lib/python3.6/dist-packages (from tensorflow==2.3.0) (1.18.5)\n",
            "Requirement already satisfied: google-pasta>=0.1.8 in /usr/local/lib/python3.6/dist-packages (from tensorflow==2.3.0) (0.2.0)\n",
            "Requirement already satisfied: six>=1.12.0 in /usr/local/lib/python3.6/dist-packages (from tensorflow==2.3.0) (1.15.0)\n",
            "Requirement already satisfied: keras-preprocessing<1.2,>=1.1.1 in /usr/local/lib/python3.6/dist-packages (from tensorflow==2.3.0) (1.1.2)\n",
            "Requirement already satisfied: h5py<2.11.0,>=2.10.0 in /usr/local/lib/python3.6/dist-packages (from tensorflow==2.3.0) (2.10.0)\n",
            "Requirement already satisfied: termcolor>=1.1.0 in /usr/local/lib/python3.6/dist-packages (from tensorflow==2.3.0) (1.1.0)\n",
            "Requirement already satisfied: setuptools in /usr/local/lib/python3.6/dist-packages (from protobuf>=3.9.2->tensorflow==2.3.0) (53.0.0)\n",
            "Requirement already satisfied: google-auth-oauthlib<0.5,>=0.4.1 in /usr/local/lib/python3.6/dist-packages (from tensorboard<3,>=2.3.0->tensorflow==2.3.0) (0.4.2)\n",
            "Requirement already satisfied: google-auth<2,>=1.6.3 in /usr/local/lib/python3.6/dist-packages (from tensorboard<3,>=2.3.0->tensorflow==2.3.0) (1.25.0)\n",
            "Requirement already satisfied: markdown>=2.6.8 in /usr/local/lib/python3.6/dist-packages (from tensorboard<3,>=2.3.0->tensorflow==2.3.0) (3.3.3)\n",
            "Requirement already satisfied: requests<3,>=2.21.0 in /usr/local/lib/python3.6/dist-packages (from tensorboard<3,>=2.3.0->tensorflow==2.3.0) (2.23.0)\n",
            "Requirement already satisfied: tensorboard-plugin-wit>=1.6.0 in /usr/local/lib/python3.6/dist-packages (from tensorboard<3,>=2.3.0->tensorflow==2.3.0) (1.8.0)\n",
            "Requirement already satisfied: werkzeug>=0.11.15 in /usr/local/lib/python3.6/dist-packages (from tensorboard<3,>=2.3.0->tensorflow==2.3.0) (1.0.1)\n",
            "Requirement already satisfied: requests-oauthlib>=0.7.0 in /usr/local/lib/python3.6/dist-packages (from google-auth-oauthlib<0.5,>=0.4.1->tensorboard<3,>=2.3.0->tensorflow==2.3.0) (1.3.0)\n",
            "Requirement already satisfied: pyasn1-modules>=0.2.1 in /usr/local/lib/python3.6/dist-packages (from google-auth<2,>=1.6.3->tensorboard<3,>=2.3.0->tensorflow==2.3.0) (0.2.8)\n",
            "Requirement already satisfied: cachetools<5.0,>=2.0.0 in /usr/local/lib/python3.6/dist-packages (from google-auth<2,>=1.6.3->tensorboard<3,>=2.3.0->tensorflow==2.3.0) (4.2.1)\n",
            "Requirement already satisfied: rsa<5,>=3.1.4; python_version >= \"3.6\" in /usr/local/lib/python3.6/dist-packages (from google-auth<2,>=1.6.3->tensorboard<3,>=2.3.0->tensorflow==2.3.0) (4.7)\n",
            "Requirement already satisfied: importlib-metadata; python_version < \"3.8\" in /usr/local/lib/python3.6/dist-packages (from markdown>=2.6.8->tensorboard<3,>=2.3.0->tensorflow==2.3.0) (3.4.0)\n",
            "Requirement already satisfied: idna<3,>=2.5 in /usr/local/lib/python3.6/dist-packages (from requests<3,>=2.21.0->tensorboard<3,>=2.3.0->tensorflow==2.3.0) (2.10)\n",
            "Requirement already satisfied: urllib3!=1.25.0,!=1.25.1,<1.26,>=1.21.1 in /usr/local/lib/python3.6/dist-packages (from requests<3,>=2.21.0->tensorboard<3,>=2.3.0->tensorflow==2.3.0) (1.24.3)\n",
            "Requirement already satisfied: certifi>=2017.4.17 in /usr/local/lib/python3.6/dist-packages (from requests<3,>=2.21.0->tensorboard<3,>=2.3.0->tensorflow==2.3.0) (2020.12.5)\n",
            "Requirement already satisfied: chardet<4,>=3.0.2 in /usr/local/lib/python3.6/dist-packages (from requests<3,>=2.21.0->tensorboard<3,>=2.3.0->tensorflow==2.3.0) (3.0.4)\n",
            "Requirement already satisfied: oauthlib>=3.0.0 in /usr/local/lib/python3.6/dist-packages (from requests-oauthlib>=0.7.0->google-auth-oauthlib<0.5,>=0.4.1->tensorboard<3,>=2.3.0->tensorflow==2.3.0) (3.1.0)\n",
            "Requirement already satisfied: pyasn1<0.5.0,>=0.4.6 in /usr/local/lib/python3.6/dist-packages (from pyasn1-modules>=0.2.1->google-auth<2,>=1.6.3->tensorboard<3,>=2.3.0->tensorflow==2.3.0) (0.4.8)\n",
            "Requirement already satisfied: typing-extensions>=3.6.4; python_version < \"3.8\" in /usr/local/lib/python3.6/dist-packages (from importlib-metadata; python_version < \"3.8\"->markdown>=2.6.8->tensorboard<3,>=2.3.0->tensorflow==2.3.0) (3.7.4.3)\n",
            "Requirement already satisfied: zipp>=0.5 in /usr/local/lib/python3.6/dist-packages (from importlib-metadata; python_version < \"3.8\"->markdown>=2.6.8->tensorboard<3,>=2.3.0->tensorflow==2.3.0) (3.4.0)\n",
            "Requirement already satisfied: gym in /usr/local/lib/python3.6/dist-packages (0.17.3)\n",
            "Requirement already satisfied: pyglet<=1.5.0,>=1.4.0 in /usr/local/lib/python3.6/dist-packages (from gym) (1.5.0)\n",
            "Requirement already satisfied: scipy in /usr/local/lib/python3.6/dist-packages (from gym) (1.4.1)\n",
            "Requirement already satisfied: cloudpickle<1.7.0,>=1.2.0 in /usr/local/lib/python3.6/dist-packages (from gym) (1.3.0)\n",
            "Requirement already satisfied: numpy>=1.10.4 in /usr/local/lib/python3.6/dist-packages (from gym) (1.18.5)\n",
            "Requirement already satisfied: future in /usr/local/lib/python3.6/dist-packages (from pyglet<=1.5.0,>=1.4.0->gym) (0.16.0)\n",
            "Requirement already satisfied: keras in /usr/local/lib/python3.6/dist-packages (2.4.3)\n",
            "Requirement already satisfied: numpy>=1.9.1 in /usr/local/lib/python3.6/dist-packages (from keras) (1.18.5)\n",
            "Requirement already satisfied: pyyaml in /usr/local/lib/python3.6/dist-packages (from keras) (3.13)\n",
            "Requirement already satisfied: h5py in /usr/local/lib/python3.6/dist-packages (from keras) (2.10.0)\n",
            "Requirement already satisfied: scipy>=0.14 in /usr/local/lib/python3.6/dist-packages (from keras) (1.4.1)\n",
            "Requirement already satisfied: six in /usr/local/lib/python3.6/dist-packages (from h5py->keras) (1.15.0)\n",
            "Requirement already satisfied: keras-rl2 in /usr/local/lib/python3.6/dist-packages (1.0.4)\n",
            "Requirement already satisfied: tensorflow>=2.1.0 in /usr/local/lib/python3.6/dist-packages (from keras-rl2) (2.3.0)\n",
            "Requirement already satisfied: opt-einsum>=2.3.2 in /usr/local/lib/python3.6/dist-packages (from tensorflow>=2.1.0->keras-rl2) (3.3.0)\n",
            "Requirement already satisfied: six>=1.12.0 in /usr/local/lib/python3.6/dist-packages (from tensorflow>=2.1.0->keras-rl2) (1.15.0)\n",
            "Requirement already satisfied: google-pasta>=0.1.8 in /usr/local/lib/python3.6/dist-packages (from tensorflow>=2.1.0->keras-rl2) (0.2.0)\n",
            "Requirement already satisfied: h5py<2.11.0,>=2.10.0 in /usr/local/lib/python3.6/dist-packages (from tensorflow>=2.1.0->keras-rl2) (2.10.0)\n",
            "Requirement already satisfied: keras-preprocessing<1.2,>=1.1.1 in /usr/local/lib/python3.6/dist-packages (from tensorflow>=2.1.0->keras-rl2) (1.1.2)\n",
            "Requirement already satisfied: numpy<1.19.0,>=1.16.0 in /usr/local/lib/python3.6/dist-packages (from tensorflow>=2.1.0->keras-rl2) (1.18.5)\n",
            "Requirement already satisfied: tensorboard<3,>=2.3.0 in /usr/local/lib/python3.6/dist-packages (from tensorflow>=2.1.0->keras-rl2) (2.4.1)\n",
            "Requirement already satisfied: tensorflow-estimator<2.4.0,>=2.3.0 in /usr/local/lib/python3.6/dist-packages (from tensorflow>=2.1.0->keras-rl2) (2.3.0)\n",
            "Requirement already satisfied: wheel>=0.26 in /usr/local/lib/python3.6/dist-packages (from tensorflow>=2.1.0->keras-rl2) (0.36.2)\n",
            "Requirement already satisfied: grpcio>=1.8.6 in /usr/local/lib/python3.6/dist-packages (from tensorflow>=2.1.0->keras-rl2) (1.32.0)\n",
            "Requirement already satisfied: absl-py>=0.7.0 in /usr/local/lib/python3.6/dist-packages (from tensorflow>=2.1.0->keras-rl2) (0.10.0)\n",
            "Requirement already satisfied: scipy==1.4.1 in /usr/local/lib/python3.6/dist-packages (from tensorflow>=2.1.0->keras-rl2) (1.4.1)\n",
            "Requirement already satisfied: astunparse==1.6.3 in /usr/local/lib/python3.6/dist-packages (from tensorflow>=2.1.0->keras-rl2) (1.6.3)\n",
            "Requirement already satisfied: gast==0.3.3 in /usr/local/lib/python3.6/dist-packages (from tensorflow>=2.1.0->keras-rl2) (0.3.3)\n",
            "Requirement already satisfied: wrapt>=1.11.1 in /usr/local/lib/python3.6/dist-packages (from tensorflow>=2.1.0->keras-rl2) (1.12.1)\n",
            "Requirement already satisfied: protobuf>=3.9.2 in /usr/local/lib/python3.6/dist-packages (from tensorflow>=2.1.0->keras-rl2) (3.12.4)\n",
            "Requirement already satisfied: termcolor>=1.1.0 in /usr/local/lib/python3.6/dist-packages (from tensorflow>=2.1.0->keras-rl2) (1.1.0)\n",
            "Requirement already satisfied: tensorboard-plugin-wit>=1.6.0 in /usr/local/lib/python3.6/dist-packages (from tensorboard<3,>=2.3.0->tensorflow>=2.1.0->keras-rl2) (1.8.0)\n",
            "Requirement already satisfied: requests<3,>=2.21.0 in /usr/local/lib/python3.6/dist-packages (from tensorboard<3,>=2.3.0->tensorflow>=2.1.0->keras-rl2) (2.23.0)\n",
            "Requirement already satisfied: markdown>=2.6.8 in /usr/local/lib/python3.6/dist-packages (from tensorboard<3,>=2.3.0->tensorflow>=2.1.0->keras-rl2) (3.3.3)\n",
            "Requirement already satisfied: setuptools>=41.0.0 in /usr/local/lib/python3.6/dist-packages (from tensorboard<3,>=2.3.0->tensorflow>=2.1.0->keras-rl2) (53.0.0)\n",
            "Requirement already satisfied: werkzeug>=0.11.15 in /usr/local/lib/python3.6/dist-packages (from tensorboard<3,>=2.3.0->tensorflow>=2.1.0->keras-rl2) (1.0.1)\n",
            "Requirement already satisfied: google-auth-oauthlib<0.5,>=0.4.1 in /usr/local/lib/python3.6/dist-packages (from tensorboard<3,>=2.3.0->tensorflow>=2.1.0->keras-rl2) (0.4.2)\n",
            "Requirement already satisfied: google-auth<2,>=1.6.3 in /usr/local/lib/python3.6/dist-packages (from tensorboard<3,>=2.3.0->tensorflow>=2.1.0->keras-rl2) (1.25.0)\n",
            "Requirement already satisfied: chardet<4,>=3.0.2 in /usr/local/lib/python3.6/dist-packages (from requests<3,>=2.21.0->tensorboard<3,>=2.3.0->tensorflow>=2.1.0->keras-rl2) (3.0.4)\n",
            "Requirement already satisfied: certifi>=2017.4.17 in /usr/local/lib/python3.6/dist-packages (from requests<3,>=2.21.0->tensorboard<3,>=2.3.0->tensorflow>=2.1.0->keras-rl2) (2020.12.5)\n",
            "Requirement already satisfied: urllib3!=1.25.0,!=1.25.1,<1.26,>=1.21.1 in /usr/local/lib/python3.6/dist-packages (from requests<3,>=2.21.0->tensorboard<3,>=2.3.0->tensorflow>=2.1.0->keras-rl2) (1.24.3)\n",
            "Requirement already satisfied: idna<3,>=2.5 in /usr/local/lib/python3.6/dist-packages (from requests<3,>=2.21.0->tensorboard<3,>=2.3.0->tensorflow>=2.1.0->keras-rl2) (2.10)\n",
            "Requirement already satisfied: importlib-metadata; python_version < \"3.8\" in /usr/local/lib/python3.6/dist-packages (from markdown>=2.6.8->tensorboard<3,>=2.3.0->tensorflow>=2.1.0->keras-rl2) (3.4.0)\n",
            "Requirement already satisfied: requests-oauthlib>=0.7.0 in /usr/local/lib/python3.6/dist-packages (from google-auth-oauthlib<0.5,>=0.4.1->tensorboard<3,>=2.3.0->tensorflow>=2.1.0->keras-rl2) (1.3.0)\n",
            "Requirement already satisfied: rsa<5,>=3.1.4; python_version >= \"3.6\" in /usr/local/lib/python3.6/dist-packages (from google-auth<2,>=1.6.3->tensorboard<3,>=2.3.0->tensorflow>=2.1.0->keras-rl2) (4.7)\n",
            "Requirement already satisfied: cachetools<5.0,>=2.0.0 in /usr/local/lib/python3.6/dist-packages (from google-auth<2,>=1.6.3->tensorboard<3,>=2.3.0->tensorflow>=2.1.0->keras-rl2) (4.2.1)\n",
            "Requirement already satisfied: pyasn1-modules>=0.2.1 in /usr/local/lib/python3.6/dist-packages (from google-auth<2,>=1.6.3->tensorboard<3,>=2.3.0->tensorflow>=2.1.0->keras-rl2) (0.2.8)\n",
            "Requirement already satisfied: zipp>=0.5 in /usr/local/lib/python3.6/dist-packages (from importlib-metadata; python_version < \"3.8\"->markdown>=2.6.8->tensorboard<3,>=2.3.0->tensorflow>=2.1.0->keras-rl2) (3.4.0)\n",
            "Requirement already satisfied: typing-extensions>=3.6.4; python_version < \"3.8\" in /usr/local/lib/python3.6/dist-packages (from importlib-metadata; python_version < \"3.8\"->markdown>=2.6.8->tensorboard<3,>=2.3.0->tensorflow>=2.1.0->keras-rl2) (3.7.4.3)\n",
            "Requirement already satisfied: oauthlib>=3.0.0 in /usr/local/lib/python3.6/dist-packages (from requests-oauthlib>=0.7.0->google-auth-oauthlib<0.5,>=0.4.1->tensorboard<3,>=2.3.0->tensorflow>=2.1.0->keras-rl2) (3.1.0)\n",
            "Requirement already satisfied: pyasn1>=0.1.3 in /usr/local/lib/python3.6/dist-packages (from rsa<5,>=3.1.4; python_version >= \"3.6\"->google-auth<2,>=1.6.3->tensorboard<3,>=2.3.0->tensorflow>=2.1.0->keras-rl2) (0.4.8)\n"
          ],
          "name": "stdout"
        }
      ]
    },
    {
      "cell_type": "code",
      "metadata": {
        "id": "MdxuPy74a8By"
      },
      "source": [
        "from gym import Env\r\n",
        "from gym.spaces import Discrete, Box\r\n",
        "import numpy as np\r\n",
        "import random"
      ],
      "execution_count": 27,
      "outputs": []
    },
    {
      "cell_type": "code",
      "metadata": {
        "id": "cH9EDTvSbsrz"
      },
      "source": [
        "class ShowerEnv(Env):\r\n",
        "    def __init__(self):\r\n",
        "        # Actions we can take, down, stay, up\r\n",
        "        self.action_space = Discrete(3)\r\n",
        "        # Temperature array\r\n",
        "        self.observation_space = Box(low=np.array([0]), high=np.array([100]))\r\n",
        "        # Set start temp\r\n",
        "        self.state = 38 + random.randint(-3,3)\r\n",
        "        # Set shower length\r\n",
        "        self.shower_length = 60\r\n",
        "    \r\n",
        "    \r\n",
        "    def step(self, action):\r\n",
        "        # Apply action\r\n",
        "        # 0 -1 = -1 temperature\r\n",
        "        # 1 -1 = 0 \r\n",
        "        # 2 -1 = 1 temperature \r\n",
        "        self.state += action -1 \r\n",
        "        # Reduce shower length by 1 second\r\n",
        "        self.shower_length -= 1 \r\n",
        "        \r\n",
        "        # Calculate reward\r\n",
        "        if self.state >=37 and self.state <=39: \r\n",
        "            reward =1 \r\n",
        "        else: \r\n",
        "            reward = -1 \r\n",
        "        \r\n",
        "        # Check if shower is done\r\n",
        "        if self.shower_length <= 0: \r\n",
        "            done = True\r\n",
        "        else:\r\n",
        "            done = False\r\n",
        "        \r\n",
        "        # Apply temperature noise\r\n",
        "        # self.state += random.randint(-1,1)\r\n",
        "        # Set placeholder for info\r\n",
        "        info = {}\r\n",
        "        \r\n",
        "        # Return step information\r\n",
        "        return self.state, reward, done, info\r\n",
        "\r\n",
        "    def render(self):\r\n",
        "        # Implement viz\r\n",
        "        pass\r\n",
        "    \r\n",
        "    def reset(self):\r\n",
        "        # Reset shower temperature\r\n",
        "        self.state = 38 + random.randint(-3,3)\r\n",
        "        # Reset shower time\r\n",
        "        self.shower_length = 60 \r\n",
        "        return self.state"
      ],
      "execution_count": 34,
      "outputs": []
    },
    {
      "cell_type": "code",
      "metadata": {
        "id": "6SMN01U9cSav"
      },
      "source": [
        "env = ShowerEnv()"
      ],
      "execution_count": null,
      "outputs": []
    },
    {
      "cell_type": "code",
      "metadata": {
        "colab": {
          "base_uri": "https://localhost:8080/"
        },
        "id": "IJSaDQaxlh5v",
        "outputId": "c49a46d8-7228-432f-efc5-14061c8017e2"
      },
      "source": [
        "env.observation_space.sample()\r\n"
      ],
      "execution_count": 37,
      "outputs": [
        {
          "output_type": "execute_result",
          "data": {
            "text/plain": [
              "array([52.06014], dtype=float32)"
            ]
          },
          "metadata": {
            "tags": []
          },
          "execution_count": 37
        }
      ]
    },
    {
      "cell_type": "code",
      "metadata": {
        "colab": {
          "base_uri": "https://localhost:8080/"
        },
        "id": "F1cXMLsEeaTx",
        "outputId": "523d59de-14a2-4ee3-d0ac-cef672afd38f"
      },
      "source": [
        "episodes = 10\r\n",
        "for episode in range(1, episodes+1):\r\n",
        "    state = env.reset()\r\n",
        "    done = False\r\n",
        "    score = 0 \r\n",
        "    \r\n",
        "    while not done:\r\n",
        "        #env.render()\r\n",
        "        action = env.action_space.sample()\r\n",
        "        n_state, reward, done, info = env.step(action)\r\n",
        "        score+=reward\r\n",
        "    print('Episode:{} Score:{}'.format(episode, score))"
      ],
      "execution_count": 40,
      "outputs": [
        {
          "output_type": "stream",
          "text": [
            "Episode:1 Score:-60\n",
            "Episode:2 Score:10\n",
            "Episode:3 Score:-34\n",
            "Episode:4 Score:-52\n",
            "Episode:5 Score:6\n",
            "Episode:6 Score:-36\n",
            "Episode:7 Score:-34\n",
            "Episode:8 Score:-58\n",
            "Episode:9 Score:-48\n",
            "Episode:10 Score:-20\n"
          ],
          "name": "stdout"
        }
      ]
    },
    {
      "cell_type": "code",
      "metadata": {
        "id": "jzzbN1zxmWL4"
      },
      "source": [
        "import numpy as np\r\n",
        "from tensorflow.keras.models import Sequential\r\n",
        "from tensorflow.keras.layers import Dense, Flatten\r\n",
        "from tensorflow.keras.optimizers import Adam"
      ],
      "execution_count": 41,
      "outputs": []
    },
    {
      "cell_type": "code",
      "metadata": {
        "id": "IL0c-CAHmmrM"
      },
      "source": [
        "states = env.observation_space.shape\r\n",
        "actions = env.action_space.n"
      ],
      "execution_count": 42,
      "outputs": []
    },
    {
      "cell_type": "code",
      "metadata": {
        "colab": {
          "base_uri": "https://localhost:8080/"
        },
        "id": "lYinHlXDmq0Y",
        "outputId": "0541091f-63a7-4bcd-8bdd-7d219ccc767d"
      },
      "source": [
        "actions"
      ],
      "execution_count": 43,
      "outputs": [
        {
          "output_type": "execute_result",
          "data": {
            "text/plain": [
              "3"
            ]
          },
          "metadata": {
            "tags": []
          },
          "execution_count": 43
        }
      ]
    },
    {
      "cell_type": "code",
      "metadata": {
        "id": "1bUnvkS1m0pU"
      },
      "source": [
        "def build_model(states, actions):\r\n",
        "    model = Sequential()    \r\n",
        "    model.add(Dense(24, activation='relu', input_shape=states))\r\n",
        "    model.add(Dense(24, activation='relu'))\r\n",
        "    model.add(Dense(actions, activation='linear'))\r\n",
        "    return model"
      ],
      "execution_count": 44,
      "outputs": []
    },
    {
      "cell_type": "code",
      "metadata": {
        "id": "CK8-lLNwoHm_"
      },
      "source": [
        "del model"
      ],
      "execution_count": 51,
      "outputs": []
    },
    {
      "cell_type": "code",
      "metadata": {
        "id": "X7dD2IGnm33u"
      },
      "source": [
        "model = build_model(states, actions)\r\n"
      ],
      "execution_count": 53,
      "outputs": []
    },
    {
      "cell_type": "code",
      "metadata": {
        "colab": {
          "base_uri": "https://localhost:8080/"
        },
        "id": "G_uVJf6tnREQ",
        "outputId": "26f10269-24f1-40cb-bc4f-9d8cb985f175"
      },
      "source": [
        "model.summary()\r\n"
      ],
      "execution_count": 54,
      "outputs": [
        {
          "output_type": "stream",
          "text": [
            "Model: \"sequential_1\"\n",
            "_________________________________________________________________\n",
            "Layer (type)                 Output Shape              Param #   \n",
            "=================================================================\n",
            "dense_3 (Dense)              (None, 24)                48        \n",
            "_________________________________________________________________\n",
            "dense_4 (Dense)              (None, 24)                600       \n",
            "_________________________________________________________________\n",
            "dense_5 (Dense)              (None, 3)                 75        \n",
            "=================================================================\n",
            "Total params: 723\n",
            "Trainable params: 723\n",
            "Non-trainable params: 0\n",
            "_________________________________________________________________\n"
          ],
          "name": "stdout"
        }
      ]
    },
    {
      "cell_type": "code",
      "metadata": {
        "id": "VpxrhfBjm746"
      },
      "source": [
        "from rl.agents import DQNAgent\r\n",
        "from rl.policy import BoltzmannQPolicy\r\n",
        "from rl.memory import SequentialMemory"
      ],
      "execution_count": 55,
      "outputs": []
    },
    {
      "cell_type": "code",
      "metadata": {
        "id": "Tx_vWYGfns3i"
      },
      "source": [
        "def build_agent(model, actions):\r\n",
        "    policy = BoltzmannQPolicy()\r\n",
        "    memory = SequentialMemory(limit=50000, window_length=1)\r\n",
        "    dqn = DQNAgent(model=model, memory=memory, policy=policy, \r\n",
        "                  nb_actions=actions, nb_steps_warmup=10, target_model_update=1e-2)\r\n",
        "    return dqn"
      ],
      "execution_count": 49,
      "outputs": []
    },
    {
      "cell_type": "code",
      "metadata": {
        "colab": {
          "base_uri": "https://localhost:8080/"
        },
        "id": "1N6NP49VnvG-",
        "outputId": "b6a5fcd7-7398-4501-8660-0bb1d7e477f7"
      },
      "source": [
        "dqn = build_agent(model, actions)\r\n",
        "dqn.compile(Adam(lr=1e-3), metrics=['mae'])\r\n",
        "dqn.fit(env, nb_steps=50000, visualize=False, verbose=1)"
      ],
      "execution_count": 56,
      "outputs": [
        {
          "output_type": "stream",
          "text": [
            "Training for 50000 steps ...\n",
            "Interval 1 (0 steps performed)\n",
            "WARNING:tensorflow:From /usr/local/lib/python3.6/dist-packages/tensorflow/python/keras/engine/training_v1.py:2070: Model.state_updates (from tensorflow.python.keras.engine.training) is deprecated and will be removed in a future version.\n",
            "Instructions for updating:\n",
            "This property should not be used in TensorFlow 2.0, as updates are applied automatically.\n",
            "    1/10000 [..............................] - ETA: 7:21 - reward: 1.0000"
          ],
          "name": "stdout"
        },
        {
          "output_type": "stream",
          "text": [
            "/usr/local/lib/python3.6/dist-packages/rl/memory.py:40: UserWarning: Not enough entries to sample without replacement. Consider increasing your warm-up phase to avoid oversampling!\n",
            "  warnings.warn('Not enough entries to sample without replacement. Consider increasing your warm-up phase to avoid oversampling!')\n"
          ],
          "name": "stderr"
        },
        {
          "output_type": "stream",
          "text": [
            "10000/10000 [==============================] - 71s 7ms/step - reward: -0.5194\n",
            "166 episodes - episode_reward: -31.048 [-60.000, 36.000] - loss: 0.883 - mae: 5.258 - mean_q: -4.588\n",
            "\n",
            "Interval 2 (10000 steps performed)\n",
            "10000/10000 [==============================] - 72s 7ms/step - reward: -0.4934\n",
            "167 episodes - episode_reward: -29.737 [-60.000, 38.000] - loss: 1.658 - mae: 8.997 - mean_q: -12.796\n",
            "\n",
            "Interval 3 (20000 steps performed)\n",
            "10000/10000 [==============================] - 74s 7ms/step - reward: -0.4740\n",
            "167 episodes - episode_reward: -28.431 [-60.000, 26.000] - loss: 2.273 - mae: 10.672 - mean_q: -15.308\n",
            "\n",
            "Interval 4 (30000 steps performed)\n",
            "10000/10000 [==============================] - 75s 7ms/step - reward: -0.4092\n",
            "166 episodes - episode_reward: -24.482 [-60.000, 42.000] - loss: 2.017 - mae: 9.926 - mean_q: -14.164\n",
            "\n",
            "Interval 5 (40000 steps performed)\n",
            "10000/10000 [==============================] - 76s 8ms/step - reward: -0.1230\n",
            "done, took 367.705 seconds\n"
          ],
          "name": "stdout"
        },
        {
          "output_type": "execute_result",
          "data": {
            "text/plain": [
              "<tensorflow.python.keras.callbacks.History at 0x7fcd357b9518>"
            ]
          },
          "metadata": {
            "tags": []
          },
          "execution_count": 56
        }
      ]
    },
    {
      "cell_type": "code",
      "metadata": {
        "colab": {
          "base_uri": "https://localhost:8080/"
        },
        "id": "VekdWG_Wn1JE",
        "outputId": "05764871-9edd-44fe-e265-16becaf0d124"
      },
      "source": [
        "scores = dqn.test(env, nb_episodes=100, visualize=False)\r\n",
        "print(np.mean(scores.history['episode_reward']))"
      ],
      "execution_count": 57,
      "outputs": [
        {
          "output_type": "stream",
          "text": [
            "Testing for 100 episodes ...\n",
            "Episode 1: reward: 60.000, steps: 60\n",
            "Episode 2: reward: 60.000, steps: 60\n",
            "Episode 3: reward: 60.000, steps: 60\n",
            "Episode 4: reward: 60.000, steps: 60\n",
            "Episode 5: reward: 60.000, steps: 60\n",
            "Episode 6: reward: 60.000, steps: 60\n",
            "Episode 7: reward: 60.000, steps: 60\n",
            "Episode 8: reward: 60.000, steps: 60\n",
            "Episode 9: reward: 60.000, steps: 60\n",
            "Episode 10: reward: 60.000, steps: 60\n",
            "Episode 11: reward: 58.000, steps: 60\n",
            "Episode 12: reward: 60.000, steps: 60\n",
            "Episode 13: reward: 60.000, steps: 60\n",
            "Episode 14: reward: 60.000, steps: 60\n",
            "Episode 15: reward: 58.000, steps: 60\n",
            "Episode 16: reward: 58.000, steps: 60\n",
            "Episode 17: reward: 58.000, steps: 60\n",
            "Episode 18: reward: 60.000, steps: 60\n",
            "Episode 19: reward: 60.000, steps: 60\n",
            "Episode 20: reward: 60.000, steps: 60\n",
            "Episode 21: reward: 58.000, steps: 60\n",
            "Episode 22: reward: 58.000, steps: 60\n",
            "Episode 23: reward: 60.000, steps: 60\n",
            "Episode 24: reward: 58.000, steps: 60\n",
            "Episode 25: reward: 60.000, steps: 60\n",
            "Episode 26: reward: 58.000, steps: 60\n",
            "Episode 27: reward: 60.000, steps: 60\n",
            "Episode 28: reward: 60.000, steps: 60\n",
            "Episode 29: reward: 60.000, steps: 60\n",
            "Episode 30: reward: 60.000, steps: 60\n",
            "Episode 31: reward: 60.000, steps: 60\n",
            "Episode 32: reward: 60.000, steps: 60\n",
            "Episode 33: reward: 60.000, steps: 60\n",
            "Episode 34: reward: 60.000, steps: 60\n",
            "Episode 35: reward: 60.000, steps: 60\n",
            "Episode 36: reward: 60.000, steps: 60\n",
            "Episode 37: reward: 58.000, steps: 60\n",
            "Episode 38: reward: 58.000, steps: 60\n",
            "Episode 39: reward: 60.000, steps: 60\n",
            "Episode 40: reward: 60.000, steps: 60\n",
            "Episode 41: reward: 60.000, steps: 60\n",
            "Episode 42: reward: 60.000, steps: 60\n",
            "Episode 43: reward: 60.000, steps: 60\n",
            "Episode 44: reward: 60.000, steps: 60\n",
            "Episode 45: reward: 60.000, steps: 60\n",
            "Episode 46: reward: 60.000, steps: 60\n",
            "Episode 47: reward: 60.000, steps: 60\n",
            "Episode 48: reward: 58.000, steps: 60\n",
            "Episode 49: reward: 60.000, steps: 60\n",
            "Episode 50: reward: 60.000, steps: 60\n",
            "Episode 51: reward: 58.000, steps: 60\n",
            "Episode 52: reward: 58.000, steps: 60\n",
            "Episode 53: reward: 58.000, steps: 60\n",
            "Episode 54: reward: 60.000, steps: 60\n",
            "Episode 55: reward: 58.000, steps: 60\n",
            "Episode 56: reward: 60.000, steps: 60\n",
            "Episode 57: reward: 58.000, steps: 60\n",
            "Episode 58: reward: 60.000, steps: 60\n",
            "Episode 59: reward: 60.000, steps: 60\n",
            "Episode 60: reward: 60.000, steps: 60\n",
            "Episode 61: reward: 60.000, steps: 60\n",
            "Episode 62: reward: 60.000, steps: 60\n",
            "Episode 63: reward: 60.000, steps: 60\n",
            "Episode 64: reward: 60.000, steps: 60\n",
            "Episode 65: reward: 60.000, steps: 60\n",
            "Episode 66: reward: 58.000, steps: 60\n",
            "Episode 67: reward: 60.000, steps: 60\n",
            "Episode 68: reward: 60.000, steps: 60\n",
            "Episode 69: reward: 60.000, steps: 60\n",
            "Episode 70: reward: 58.000, steps: 60\n",
            "Episode 71: reward: 60.000, steps: 60\n",
            "Episode 72: reward: 58.000, steps: 60\n",
            "Episode 73: reward: 60.000, steps: 60\n",
            "Episode 74: reward: 60.000, steps: 60\n",
            "Episode 75: reward: 60.000, steps: 60\n",
            "Episode 76: reward: 60.000, steps: 60\n",
            "Episode 77: reward: 60.000, steps: 60\n",
            "Episode 78: reward: 58.000, steps: 60\n",
            "Episode 79: reward: 58.000, steps: 60\n",
            "Episode 80: reward: 60.000, steps: 60\n",
            "Episode 81: reward: 60.000, steps: 60\n",
            "Episode 82: reward: 60.000, steps: 60\n",
            "Episode 83: reward: 60.000, steps: 60\n",
            "Episode 84: reward: 58.000, steps: 60\n",
            "Episode 85: reward: 60.000, steps: 60\n",
            "Episode 86: reward: 60.000, steps: 60\n",
            "Episode 87: reward: 60.000, steps: 60\n",
            "Episode 88: reward: 60.000, steps: 60\n",
            "Episode 89: reward: 60.000, steps: 60\n",
            "Episode 90: reward: 60.000, steps: 60\n",
            "Episode 91: reward: 60.000, steps: 60\n",
            "Episode 92: reward: 60.000, steps: 60\n",
            "Episode 93: reward: 58.000, steps: 60\n",
            "Episode 94: reward: 60.000, steps: 60\n",
            "Episode 95: reward: 60.000, steps: 60\n",
            "Episode 96: reward: 58.000, steps: 60\n",
            "Episode 97: reward: 60.000, steps: 60\n",
            "Episode 98: reward: 60.000, steps: 60\n",
            "Episode 99: reward: 58.000, steps: 60\n",
            "Episode 100: reward: 60.000, steps: 60\n",
            "59.5\n"
          ],
          "name": "stdout"
        }
      ]
    }
  ]
}